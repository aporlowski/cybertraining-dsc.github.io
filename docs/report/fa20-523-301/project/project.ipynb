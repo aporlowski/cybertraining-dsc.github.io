{
 "cells": [
  {
   "cell_type": "markdown",
   "metadata": {
    "id": "SZS0wkHPlyFO"
   },
   "source": [
    "# Final Project Notebook\n",
    "\n",
    "The report for this final project can be found at this [link](https://cybertraining-dsc.github.io/report/fa20-523-301/project/project/)."
   ]
  },
  {
   "cell_type": "markdown",
   "metadata": {
    "id": "ZvjolHp0lvEG"
   },
   "source": [
    "## Part 1 Importing the functions\n",
    "\n",
    "This file requires that we import Numpy, Matplotlib, Pylab, Keras, and Pandas"
   ]
  },
  {
   "cell_type": "code",
   "execution_count": 1,
   "metadata": {
    "id": "GBEQu5Gpl-eq"
   },
   "outputs": [],
   "source": [
    "import numpy as np\n",
    "import matplotlib.pyplot as plt\n",
    "import pylab\n",
    "\n",
    "import pandas as pd\n",
    "import io\n",
    "import requests\n",
    "\n",
    "import tensorflow as tf\n",
    "from tensorflow import keras\n",
    "from tensorflow.keras import layers"
   ]
  },
  {
   "cell_type": "markdown",
   "metadata": {},
   "source": [
    "Setting up download function. This script will check to see if the filename has any data, and if it doesn't it will download from the specified url."
   ]
  },
  {
   "cell_type": "code",
   "execution_count": 15,
   "metadata": {},
   "outputs": [],
   "source": [
    "def download(url, filename):\n",
    "    if len(filename.columns) >0:\n",
    "        n=0\n",
    "        #break\n",
    "    else: \n",
    "        #url=\"https://github.com/cs109/2014_data/blob/master/countries.csv\"\n",
    "        \n",
    "        s=requests.get(url).content\n",
    "        filename=pd.read_csv(url, error_bad_lines=False)\n",
    "        \n",
    "    return filename"
   ]
  },
  {
   "cell_type": "code",
   "execution_count": 18,
   "metadata": {},
   "outputs": [],
   "source": [
    "nBA_injuries = pd.DataFrame()\n",
    "nBA_games = pd.DataFrame()\n",
    "nBA_stats = pd.DataFrame()"
   ]
  },
  {
   "cell_type": "code",
   "execution_count": 19,
   "metadata": {},
   "outputs": [
    {
     "name": "stdout",
     "output_type": "stream",
     "text": [
      "Empty DataFrame\n",
      "Columns: []\n",
      "Index: []\n"
     ]
    }
   ],
   "source": [
    "print(nBA_injuries)"
   ]
  },
  {
   "cell_type": "code",
   "execution_count": 20,
   "metadata": {},
   "outputs": [
    {
     "name": "stderr",
     "output_type": "stream",
     "text": [
      "b'Skipping line 6: expected 1 fields, saw 2\\nSkipping line 9: expected 1 fields, saw 3\\nSkipping line 10: expected 1 fields, saw 4\\nSkipping line 21: expected 1 fields, saw 2\\nSkipping line 33: expected 1 fields, saw 8\\nSkipping line 42: expected 1 fields, saw 9\\nSkipping line 46: expected 1 fields, saw 2\\nSkipping line 47: expected 1 fields, saw 6\\nSkipping line 52: expected 1 fields, saw 2\\nSkipping line 53: expected 1 fields, saw 3\\nSkipping line 54: expected 1 fields, saw 2\\nSkipping line 55: expected 1 fields, saw 2\\nSkipping line 56: expected 1 fields, saw 2\\nSkipping line 78: expected 1 fields, saw 49\\nSkipping line 88: expected 1 fields, saw 2\\nSkipping line 89: expected 1 fields, saw 2\\nSkipping line 90: expected 1 fields, saw 2\\nSkipping line 91: expected 1 fields, saw 2\\nSkipping line 98: expected 1 fields, saw 2\\nSkipping line 100: expected 1 fields, saw 2\\nSkipping line 108: expected 1 fields, saw 2\\nSkipping line 169: expected 1 fields, saw 2\\nSkipping line 170: expected 1 fields, saw 2\\nSkipping line 171: expected 1 fields, saw 2\\nSkipping line 172: expected 1 fields, saw 2\\nSkipping line 174: expected 1 fields, saw 2\\nSkipping line 175: expected 1 fields, saw 2\\nSkipping line 194: expected 1 fields, saw 785\\nSkipping line 197: expected 1 fields, saw 2\\nSkipping line 198: expected 1 fields, saw 3\\nSkipping line 201: expected 1 fields, saw 2\\nSkipping line 203: expected 1 fields, saw 2\\nSkipping line 205: expected 1 fields, saw 5\\nSkipping line 206: expected 1 fields, saw 5\\nSkipping line 207: expected 1 fields, saw 2\\nSkipping line 209: expected 1 fields, saw 2\\nSkipping line 213: expected 1 fields, saw 2\\nSkipping line 214: expected 1 fields, saw 2\\nSkipping line 218: expected 1 fields, saw 2\\nSkipping line 221: expected 1 fields, saw 2\\nSkipping line 222: expected 1 fields, saw 2\\n'\n",
      "b'Skipping line 6: expected 1 fields, saw 2\\nSkipping line 9: expected 1 fields, saw 3\\nSkipping line 10: expected 1 fields, saw 4\\nSkipping line 21: expected 1 fields, saw 2\\nSkipping line 33: expected 1 fields, saw 8\\nSkipping line 42: expected 1 fields, saw 9\\nSkipping line 46: expected 1 fields, saw 2\\nSkipping line 47: expected 1 fields, saw 6\\nSkipping line 52: expected 1 fields, saw 2\\nSkipping line 53: expected 1 fields, saw 3\\nSkipping line 54: expected 1 fields, saw 2\\nSkipping line 55: expected 1 fields, saw 2\\nSkipping line 56: expected 1 fields, saw 2\\nSkipping line 79: expected 1 fields, saw 51\\nSkipping line 89: expected 1 fields, saw 2\\nSkipping line 90: expected 1 fields, saw 2\\nSkipping line 91: expected 1 fields, saw 2\\nSkipping line 92: expected 1 fields, saw 2\\nSkipping line 99: expected 1 fields, saw 2\\nSkipping line 101: expected 1 fields, saw 2\\nSkipping line 109: expected 1 fields, saw 2\\nSkipping line 170: expected 1 fields, saw 2\\nSkipping line 171: expected 1 fields, saw 2\\nSkipping line 172: expected 1 fields, saw 2\\nSkipping line 173: expected 1 fields, saw 2\\nSkipping line 175: expected 1 fields, saw 2\\nSkipping line 176: expected 1 fields, saw 2\\nSkipping line 195: expected 1 fields, saw 1120\\nSkipping line 198: expected 1 fields, saw 2\\nSkipping line 199: expected 1 fields, saw 3\\nSkipping line 202: expected 1 fields, saw 2\\nSkipping line 204: expected 1 fields, saw 2\\nSkipping line 206: expected 1 fields, saw 5\\nSkipping line 207: expected 1 fields, saw 5\\nSkipping line 208: expected 1 fields, saw 2\\nSkipping line 210: expected 1 fields, saw 2\\nSkipping line 214: expected 1 fields, saw 2\\nSkipping line 215: expected 1 fields, saw 2\\nSkipping line 219: expected 1 fields, saw 2\\nSkipping line 222: expected 1 fields, saw 2\\nSkipping line 223: expected 1 fields, saw 2\\n'\n",
      "b'Skipping line 6: expected 1 fields, saw 2\\nSkipping line 9: expected 1 fields, saw 5\\nSkipping line 10: expected 1 fields, saw 4\\nSkipping line 21: expected 1 fields, saw 2\\nSkipping line 33: expected 1 fields, saw 8\\nSkipping line 42: expected 1 fields, saw 9\\nSkipping line 46: expected 1 fields, saw 2\\nSkipping line 47: expected 1 fields, saw 6\\nSkipping line 52: expected 1 fields, saw 2\\nSkipping line 53: expected 1 fields, saw 3\\nSkipping line 54: expected 1 fields, saw 2\\nSkipping line 55: expected 1 fields, saw 2\\nSkipping line 56: expected 1 fields, saw 2\\nSkipping line 79: expected 1 fields, saw 54\\nSkipping line 89: expected 1 fields, saw 2\\nSkipping line 90: expected 1 fields, saw 2\\nSkipping line 91: expected 1 fields, saw 2\\nSkipping line 92: expected 1 fields, saw 2\\nSkipping line 99: expected 1 fields, saw 2\\nSkipping line 101: expected 1 fields, saw 2\\nSkipping line 109: expected 1 fields, saw 2\\nSkipping line 170: expected 1 fields, saw 2\\nSkipping line 171: expected 1 fields, saw 2\\nSkipping line 172: expected 1 fields, saw 2\\nSkipping line 173: expected 1 fields, saw 2\\nSkipping line 175: expected 1 fields, saw 2\\nSkipping line 176: expected 1 fields, saw 2\\nSkipping line 195: expected 1 fields, saw 1381\\nSkipping line 198: expected 1 fields, saw 2\\nSkipping line 199: expected 1 fields, saw 3\\nSkipping line 202: expected 1 fields, saw 2\\nSkipping line 204: expected 1 fields, saw 2\\nSkipping line 206: expected 1 fields, saw 5\\nSkipping line 207: expected 1 fields, saw 5\\nSkipping line 208: expected 1 fields, saw 2\\nSkipping line 210: expected 1 fields, saw 2\\nSkipping line 214: expected 1 fields, saw 2\\nSkipping line 215: expected 1 fields, saw 2\\nSkipping line 219: expected 1 fields, saw 2\\nSkipping line 222: expected 1 fields, saw 2\\nSkipping line 223: expected 1 fields, saw 2\\n'\n"
     ]
    }
   ],
   "source": [
    "url='https://www.kaggle.com/ghopkins/nba-injuries-2010-2018?select=injuries_2010-2020.csv'\n",
    "filename = nBA_injuries\n",
    "nBA_injuries = download(url, filename)\n",
    "\n",
    "url = 'https://www.kaggle.com/nathanlauga/nba-games?select=players.csv'\n",
    "filename = nBA_games\n",
    "nBA_games = download(url, filename)\n",
    "\n",
    "url = 'https://www.kaggle.com/pablote/nba-enhanced-stats?select=2012-18_playerBoxScore.csv'\n",
    "filename = nBA_stats\n",
    "nBA_stats = download(url, filename)\n",
    "\n"
   ]
  },
  {
   "cell_type": "code",
   "execution_count": 17,
   "metadata": {},
   "outputs": [
    {
     "name": "stdout",
     "output_type": "stream",
     "text": [
      "                                       <!DOCTYPE html>\n",
      "0                                     <html lang=\"en\">\n",
      "1                                               <head>\n",
      "2        <title>NBA Injuries from 2010-2020 | Kaggl...\n",
      "3                             <meta charset=\"utf-8\" />\n",
      "4        <meta name=\"description\" content=\"Analyze ...\n",
      "..                                                 ...\n",
      "138  <script nonce=\"h0ZzF4xxNwi4aDR7lQdPaw==\" type=...\n",
      "139                                             </div>\n",
      "140                                            </main>\n",
      "141                                            </body>\n",
      "142                                            </html>\n",
      "\n",
      "[143 rows x 1 columns]\n"
     ]
    }
   ],
   "source": [
    "print(nBA_injuries)"
   ]
  },
  {
   "cell_type": "code",
   "execution_count": 21,
   "metadata": {},
   "outputs": [
    {
     "name": "stdout",
     "output_type": "stream",
     "text": [
      "                                       <!DOCTYPE html>\n",
      "0                                     <html lang=\"en\">\n",
      "1                                               <head>\n",
      "2               <title>NBA games data | Kaggle</title>\n",
      "3                             <meta charset=\"utf-8\" />\n",
      "4        <meta name=\"description\" content=\"Dataset ...\n",
      "..                                                 ...\n",
      "139  <script nonce=\"na/vE0WFqoVRt20WVnT6xg==\" type=...\n",
      "140                                             </div>\n",
      "141                                            </main>\n",
      "142                                            </body>\n",
      "143                                            </html>\n",
      "\n",
      "[144 rows x 1 columns]\n"
     ]
    }
   ],
   "source": [
    "print(nBA_games)"
   ]
  },
  {
   "cell_type": "code",
   "execution_count": 22,
   "metadata": {},
   "outputs": [
    {
     "name": "stdout",
     "output_type": "stream",
     "text": [
      "                                       <!DOCTYPE html>\n",
      "0                                     <html lang=\"en\">\n",
      "1                                               <head>\n",
      "2        <title>NBA Enhanced Box Score and Standing...\n",
      "3                             <meta charset=\"utf-8\" />\n",
      "4        <meta name=\"description\" content=\"Box Scor...\n",
      "..                                                 ...\n",
      "139  <script nonce=\"5VgMeNDg8vMUNzcyTL53vg==\" type=...\n",
      "140                                             </div>\n",
      "141                                            </main>\n",
      "142                                            </body>\n",
      "143                                            </html>\n",
      "\n",
      "[144 rows x 1 columns]\n"
     ]
    }
   ],
   "source": [
    "print(nBA_stats)"
   ]
  },
  {
   "cell_type": "markdown",
   "metadata": {
    "id": "JLp742E5ftIr"
   },
   "source": [
    "# Part 2 Building the Keras Model\n",
    "\n",
    "A link for Keras for us to use can be found [here](https://keras.io/guides/sequential_model/)."
   ]
  },
  {
   "cell_type": "code",
   "execution_count": 2,
   "metadata": {
    "id": "7AA48g-jftpp"
   },
   "outputs": [],
   "source": [
    "# Define Sequential model with 3 layers\n",
    "model = keras.Sequential(\n",
    "    [\n",
    "        layers.Dense(2, activation=\"relu\", name=\"layer1\"),\n",
    "        layers.Dense(3, activation=\"relu\", name=\"layer2\"),\n",
    "        layers.Dense(4, name=\"layer3\"),\n",
    "    ]\n",
    ")\n",
    "# Call model on a test input\n",
    "x = tf.ones((3, 3))\n",
    "y = model(x)"
   ]
  },
  {
   "cell_type": "markdown",
   "metadata": {
    "id": "nLGlczbef3pZ"
   },
   "source": [
    "Insert Layers"
   ]
  },
  {
   "cell_type": "code",
   "execution_count": 3,
   "metadata": {
    "id": "yCQf0RZ8f20Z"
   },
   "outputs": [],
   "source": [
    "# Create 3 layers\n",
    "layer1 = layers.Dense(2, activation=\"relu\", name=\"layer1\")\n",
    "layer2 = layers.Dense(3, activation=\"relu\", name=\"layer2\")\n",
    "layer3 = layers.Dense(4, name=\"layer3\")\n",
    "\n",
    "# Call layers on a test input\n",
    "x = tf.ones((3, 3))\n",
    "y = layer3(layer2(layer1(x)))"
   ]
  },
  {
   "cell_type": "markdown",
   "metadata": {},
   "source": [
    "# Part 3 Conclusions\n",
    "\n",
    "This is where the conclusions section will be typed"
   ]
  },
  {
   "cell_type": "code",
   "execution_count": null,
   "metadata": {},
   "outputs": [],
   "source": []
  }
 ],
 "metadata": {
  "colab": {
   "collapsed_sections": [],
   "name": "ghemmer_Assn4_E534_Higgs_Discovery_A.ipynb",
   "provenance": []
  },
  "kernelspec": {
   "display_name": "Python 3",
   "language": "python",
   "name": "python3"
  },
  "language_info": {
   "codemirror_mode": {
    "name": "ipython",
    "version": 3
   },
   "file_extension": ".py",
   "mimetype": "text/x-python",
   "name": "python",
   "nbconvert_exporter": "python",
   "pygments_lexer": "ipython3",
   "version": "3.7.6"
  },
  "toc": {
   "base_numbering": 1,
   "nav_menu": {},
   "number_sections": true,
   "sideBar": true,
   "skip_h1_title": false,
   "title_cell": "Table of Contents",
   "title_sidebar": "Contents",
   "toc_cell": false,
   "toc_position": {},
   "toc_section_display": true,
   "toc_window_display": false
  }
 },
 "nbformat": 4,
 "nbformat_minor": 1
}
