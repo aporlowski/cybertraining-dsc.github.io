{
  "nbformat": 4,
  "nbformat_minor": 0,
  "metadata": {
    "colab": {
      "name": "Untitled",
      "provenance": [],
      "authorship_tag": "ABX9TyPYljdsGYVXGwdVjBz2F1vm",
      "include_colab_link": true
    },
    "kernelspec": {
      "name": "python3",
      "display_name": "Python 3"
    }
  },
  "cells": [
    {
      "cell_type": "markdown",
      "metadata": {
        "id": "view-in-github",
        "colab_type": "text"
      },
      "source": [
        "<a href=\"https://colab.research.google.com/github/cybertraining-dsc/fa20-523-313/blob/master/project/project1.ipynb\" target=\"_parent\"><img src=\"https://colab.research.google.com/assets/colab-badge.svg\" alt=\"Open In Colab\"/></a>"
      ]
    },
    {
      "cell_type": "markdown",
      "metadata": {
        "id": "IXwTnNQah-6B"
      },
      "source": [
        "We will use some functions from backtrader to do our analysis. "
      ]
    },
    {
      "cell_type": "code",
      "metadata": {
        "id": "mzKiX3L9h7eQ",
        "outputId": "2d73487d-8de5-4e8f-a4da-5d715ceff71b",
        "colab": {
          "base_uri": "https://localhost:8080/",
          "height": 122
        }
      },
      "source": [
        "!pip install backtrader\n",
        "import backtrader as bt\n",
        "import backtrader.feeds as btfeeds\n",
        "import backtrader.indicators as btind"
      ],
      "execution_count": null,
      "outputs": [
        {
          "output_type": "stream",
          "text": [
            "Collecting backtrader\n",
            "\u001b[?25l  Downloading https://files.pythonhosted.org/packages/1a/bf/78aadd993e2719d6764603465fde163ba6ec15cf0e81f13e39ca13451348/backtrader-1.9.76.123-py2.py3-none-any.whl (410kB)\n",
            "\r\u001b[K     |▉                               | 10kB 18.4MB/s eta 0:00:01\r\u001b[K     |█▋                              | 20kB 1.7MB/s eta 0:00:01\r\u001b[K     |██▍                             | 30kB 2.2MB/s eta 0:00:01\r\u001b[K     |███▏                            | 40kB 2.5MB/s eta 0:00:01\r\u001b[K     |████                            | 51kB 2.0MB/s eta 0:00:01\r\u001b[K     |████▉                           | 61kB 2.2MB/s eta 0:00:01\r\u001b[K     |█████▋                          | 71kB 2.5MB/s eta 0:00:01\r\u001b[K     |██████▍                         | 81kB 2.7MB/s eta 0:00:01\r\u001b[K     |███████▏                        | 92kB 2.9MB/s eta 0:00:01\r\u001b[K     |████████                        | 102kB 2.8MB/s eta 0:00:01\r\u001b[K     |████████▉                       | 112kB 2.8MB/s eta 0:00:01\r\u001b[K     |█████████▋                      | 122kB 2.8MB/s eta 0:00:01\r\u001b[K     |██████████▍                     | 133kB 2.8MB/s eta 0:00:01\r\u001b[K     |███████████▏                    | 143kB 2.8MB/s eta 0:00:01\r\u001b[K     |████████████                    | 153kB 2.8MB/s eta 0:00:01\r\u001b[K     |████████████▉                   | 163kB 2.8MB/s eta 0:00:01\r\u001b[K     |█████████████▋                  | 174kB 2.8MB/s eta 0:00:01\r\u001b[K     |██████████████▍                 | 184kB 2.8MB/s eta 0:00:01\r\u001b[K     |███████████████▏                | 194kB 2.8MB/s eta 0:00:01\r\u001b[K     |████████████████                | 204kB 2.8MB/s eta 0:00:01\r\u001b[K     |████████████████▉               | 215kB 2.8MB/s eta 0:00:01\r\u001b[K     |█████████████████▋              | 225kB 2.8MB/s eta 0:00:01\r\u001b[K     |██████████████████▍             | 235kB 2.8MB/s eta 0:00:01\r\u001b[K     |███████████████████▏            | 245kB 2.8MB/s eta 0:00:01\r\u001b[K     |████████████████████            | 256kB 2.8MB/s eta 0:00:01\r\u001b[K     |████████████████████▊           | 266kB 2.8MB/s eta 0:00:01\r\u001b[K     |█████████████████████▋          | 276kB 2.8MB/s eta 0:00:01\r\u001b[K     |██████████████████████▍         | 286kB 2.8MB/s eta 0:00:01\r\u001b[K     |███████████████████████▏        | 296kB 2.8MB/s eta 0:00:01\r\u001b[K     |████████████████████████        | 307kB 2.8MB/s eta 0:00:01\r\u001b[K     |████████████████████████▊       | 317kB 2.8MB/s eta 0:00:01\r\u001b[K     |█████████████████████████▋      | 327kB 2.8MB/s eta 0:00:01\r\u001b[K     |██████████████████████████▍     | 337kB 2.8MB/s eta 0:00:01\r\u001b[K     |███████████████████████████▏    | 348kB 2.8MB/s eta 0:00:01\r\u001b[K     |████████████████████████████    | 358kB 2.8MB/s eta 0:00:01\r\u001b[K     |████████████████████████████▊   | 368kB 2.8MB/s eta 0:00:01\r\u001b[K     |█████████████████████████████▋  | 378kB 2.8MB/s eta 0:00:01\r\u001b[K     |██████████████████████████████▍ | 389kB 2.8MB/s eta 0:00:01\r\u001b[K     |███████████████████████████████▏| 399kB 2.8MB/s eta 0:00:01\r\u001b[K     |████████████████████████████████| 409kB 2.8MB/s eta 0:00:01\r\u001b[K     |████████████████████████████████| 419kB 2.8MB/s \n",
            "\u001b[?25hInstalling collected packages: backtrader\n",
            "Successfully installed backtrader-1.9.76.123\n"
          ],
          "name": "stdout"
        }
      ]
    },
    {
      "cell_type": "markdown",
      "metadata": {
        "id": "UkNlL4qXkFUw"
      },
      "source": [
        "We will also use some functions from matplotlib to generate graphics"
      ]
    },
    {
      "cell_type": "code",
      "metadata": {
        "id": "OVZJjxvFkMRQ",
        "outputId": "e8e78dd4-dae4-4432-879d-942712b466f8",
        "colab": {
          "base_uri": "https://localhost:8080/",
          "height": 136
        }
      },
      "source": [
        "!pip install matplotlib"
      ],
      "execution_count": null,
      "outputs": [
        {
          "output_type": "stream",
          "text": [
            "Requirement already satisfied: matplotlib in /usr/local/lib/python3.6/dist-packages (3.2.2)\n",
            "Requirement already satisfied: numpy>=1.11 in /usr/local/lib/python3.6/dist-packages (from matplotlib) (1.18.5)\n",
            "Requirement already satisfied: python-dateutil>=2.1 in /usr/local/lib/python3.6/dist-packages (from matplotlib) (2.8.1)\n",
            "Requirement already satisfied: cycler>=0.10 in /usr/local/lib/python3.6/dist-packages (from matplotlib) (0.10.0)\n",
            "Requirement already satisfied: kiwisolver>=1.0.1 in /usr/local/lib/python3.6/dist-packages (from matplotlib) (1.2.0)\n",
            "Requirement already satisfied: pyparsing!=2.0.4,!=2.1.2,!=2.1.6,>=2.0.1 in /usr/local/lib/python3.6/dist-packages (from matplotlib) (2.4.7)\n",
            "Requirement already satisfied: six>=1.5 in /usr/local/lib/python3.6/dist-packages (from python-dateutil>=2.1->matplotlib) (1.15.0)\n"
          ],
          "name": "stdout"
        }
      ]
    }
  ]
}