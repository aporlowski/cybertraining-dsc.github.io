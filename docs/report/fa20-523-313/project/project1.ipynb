{
  "nbformat": 4,
  "nbformat_minor": 0,
  "metadata": {
    "colab": {
      "name": "Untitled0.ipynb",
      "provenance": [],
      "authorship_tag": "ABX9TyO7W/LDmTQG9KvTWshl+B7X",
      "include_colab_link": true
    },
    "kernelspec": {
      "name": "python3",
      "display_name": "Python 3"
    }
  },
  "cells": [
    {
      "cell_type": "markdown",
      "metadata": {
        "id": "view-in-github",
        "colab_type": "text"
      },
      "source": [
        "<a href=\"https://colab.research.google.com/github/cybertraining-dsc/fa20-523-313/blob/master/project/project1.ipynb\" target=\"_parent\"><img src=\"https://colab.research.google.com/assets/colab-badge.svg\" alt=\"Open In Colab\"/></a>"
      ]
    },
    {
      "cell_type": "markdown",
      "metadata": {
        "id": "IXwTnNQah-6B"
      },
      "source": [
        "Importing the needed libraries"
      ]
    },
    {
      "cell_type": "code",
      "metadata": {
        "id": "mzKiX3L9h7eQ"
      },
      "source": [
        "from pandas_datareader import data\n",
        "import numpy as np\n",
        "import pandas as pd\n",
        "from sklearn.model_selection import train_test_split\n",
        "from keras.models import Sequential\n",
        "from keras.layers import Dense, Dropout, LSTM\n",
        "#to plot within notebook\n",
        "import matplotlib.pyplot as plt\n",
        "import fix_yahoo_finance as yf"
      ],
      "execution_count": 15,
      "outputs": []
    },
    {
      "cell_type": "markdown",
      "metadata": {
        "id": "UkNlL4qXkFUw"
      },
      "source": [
        "Function to calculate percentage different"
      ]
    },
    {
      "cell_type": "code",
      "metadata": {
        "id": "OVZJjxvFkMRQ"
      },
      "source": [
        "def percentageChange(baseValue, currentValue):\n",
        "    return((float(currentValue)-baseValue) / abs(baseValue)) *100.00"
      ],
      "execution_count": 8,
      "outputs": []
    },
    {
      "cell_type": "markdown",
      "metadata": {
        "id": "LD4g5ezYZ5ae"
      },
      "source": [
        "Function to get the actual value"
      ]
    },
    {
      "cell_type": "code",
      "metadata": {
        "id": "8PPdwgeIZ8EN"
      },
      "source": [
        "def reversePercentageChange(baseValue, percentage):\n",
        "    return float(baseValue) + float(baseValue * percentage / 100.00)"
      ],
      "execution_count": 9,
      "outputs": []
    },
    {
      "cell_type": "markdown",
      "metadata": {
        "id": "0asSXwxqaGLI"
      },
      "source": [
        "Function to transform a list of values into percentage"
      ]
    },
    {
      "cell_type": "code",
      "metadata": {
        "id": "Ii2EUNFYaNGp"
      },
      "source": [
        "def transformToPercentageChange(x):\n",
        "    baseValue = x[0]\n",
        "    x[0] = 0\n",
        "    for i in range(1,len(x)):\n",
        "        pChange = percentageChange(baseValue,x[i])\n",
        "        baseValue = x[i]\n",
        "        x[i] = pChange"
      ],
      "execution_count": 10,
      "outputs": []
    },
    {
      "cell_type": "markdown",
      "metadata": {
        "id": "SGqrJ-MmeqJc"
      },
      "source": [
        "Getting the stock data"
      ]
    },
    {
      "cell_type": "code",
      "metadata": {
        "id": "7NARU91Qevst",
        "outputId": "2d30f4a9-2095-4477-cdaf-22323994bcc7",
        "colab": {
          "base_uri": "https://localhost:8080/"
        }
      },
      "source": [
        "yf.pdr_override() \n",
        "\n",
        "symbol = 'AMZN'\n",
        "data_source='google'\n",
        "start_date = '2010-01-01'\n",
        "end_date = '2016-01-01'\n",
        "df = data.get_data_yahoo(symbol, start_date, end_date)"
      ],
      "execution_count": 16,
      "outputs": [
        {
          "output_type": "stream",
          "text": [
            "[*********************100%***********************]  1 of 1 downloaded\n"
          ],
          "name": "stdout"
        }
      ]
    }
  ]
}