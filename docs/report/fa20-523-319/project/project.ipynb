{
  "nbformat": 4,
  "nbformat_minor": 0,
  "metadata": {
    "colab": {
      "name": "project.ipynb",
      "provenance": [],
      "authorship_tag": "ABX9TyPBJneLeO66ygy78vtyUgy9",
      "include_colab_link": true
    },
    "kernelspec": {
      "name": "python3",
      "display_name": "Python 3"
    }
  },
  "cells": [
    {
      "cell_type": "markdown",
      "metadata": {
        "id": "view-in-github",
        "colab_type": "text"
      },
      "source": [
        "<a href=\"https://colab.research.google.com/github/cybertraining-dsc/fa20-523-319/blob/master/project/project.ipynb\" target=\"_parent\"><img src=\"https://colab.research.google.com/assets/colab-badge.svg\" alt=\"Open In Colab\"/></a>"
      ]
    },
    {
      "cell_type": "code",
      "metadata": {
        "id": "xCGDa_NIWHbp"
      },
      "source": [
        "\n",
        "import argparse\n",
        "import datetime\n",
        "import os\n",
        "import sys\n",
        "\n",
        "import torch\n",
        "import numpy as np\n",
        "\n",
        "import matplotlib.pyplot as plt\n",
        "torch.set_printoptions(edgeitems=2, threshold=50)\n",
        "from torch.utils.tensorboard import SummaryWriter\n",
        "\n",
        "\n",
        "import torch.nn as nn\n",
        "from torch.optim import SGD, Adam\n",
        "from torch.utils.data import DataLoader\n",
        "\n",
        "from util.util import enumerateWithEstimate\n",
        "from .dsets import LunaDataset\n",
        "from util.logconf import logging\n",
        "from .model import LunaModel\n",
        "\n",
        "log = logging.getLogger(__name__)\n",
        "# log.setLevel(logging.WARN)\n",
        "log.setLevel(logging.INFO)\n",
        "log.setLevel(logging.DEBUG)\n",
        "\n",
        "# Used for computeBatchLoss and logMetrics to index into metrics_t/metrics_a\n",
        "METRICS_LABEL_NDX=0\n",
        "METRICS_PRED_NDX=1\n",
        "METRICS_LOSS_NDX=2\n",
        "METRICS_SIZE = 3\n"
      ],
      "execution_count": null,
      "outputs": []
    },
    {
      "cell_type": "code",
      "metadata": {
        "id": "ppDl74PoCF9q"
      },
      "source": [
        "import imageio"
      ],
      "execution_count": null,
      "outputs": []
    }
  ]
}