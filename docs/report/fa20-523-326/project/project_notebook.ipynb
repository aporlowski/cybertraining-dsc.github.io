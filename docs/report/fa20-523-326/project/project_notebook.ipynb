{
 "cells": [
  {
   "cell_type": "markdown",
   "metadata": {},
   "source": [
    "<a id='TOC'></a>\n",
    "# Project: *Analysis of Future of Buffalo Breeds and Milk Production growth in India*\n",
    "\n",
    "`\n",
    "By   : Shahapurkar, Gangaprasad\n",
    "Email: garashah@iu.edu`"
   ]
  },
  {
   "cell_type": "markdown",
   "metadata": {},
   "source": [
    "<img src=\"images/cover_photo.jpg\" alt=\"Cover photo\" style=\"width:=500px;height:=300px;\"/>"
   ]
  },
  {
   "cell_type": "markdown",
   "metadata": {},
   "source": [
    "## Abstract and objective\n"
   ]
  },
  {
   "cell_type": "markdown",
   "metadata": {},
   "source": [
    "In this notebook we will load livestock data of India related to Buffalo and apply machine learning algorithm to the data predict milk production growth "
   ]
  },
  {
   "cell_type": "markdown",
   "metadata": {},
   "source": [
    "## Prepare the notebook (imports, helper functions)"
   ]
  },
  {
   "cell_type": "markdown",
   "metadata": {},
   "source": [
    "The goal of this section is to import required libraries and define the custom functions required for processind data and implementing machine learning algorithm"
   ]
  },
  {
   "cell_type": "code",
   "execution_count": 14,
   "metadata": {},
   "outputs": [
    {
     "name": "stdout",
     "output_type": "stream",
     "text": [
      "Python 3.7.4\n"
     ]
    }
   ],
   "source": [
    "# Check if python is installed \n",
    "try:\n",
    "    !python --version\n",
    "except:\n",
    "    print(\"Seems python is not installed\")"
   ]
  },
  {
   "cell_type": "code",
   "execution_count": 13,
   "metadata": {},
   "outputs": [
    {
     "name": "stdout",
     "output_type": "stream",
     "text": [
      "found distribution matplotlib==3.2.1\n",
      "found distribution absl-py==0.9.0\n",
      "found distribution alabaster==0.7.12\n",
      "found distribution altair==4.1.0\n",
      "found distribution anaconda-client==1.7.2\n",
      "found distribution anaconda-navigator==1.9.7\n",
      "found distribution anaconda-project==0.8.3\n",
      "found distribution asn1crypto==1.0.1\n",
      "found distribution astor==0.8.1\n",
      "found distribution astroid==2.3.1\n",
      "found distribution astropy==3.2.1\n",
      "found distribution astunparse==1.6.3\n",
      "found distribution atomicwrites==1.3.0\n",
      "found distribution attrs==19.2.0\n",
      "found distribution awscli==1.18.89\n",
      "found distribution Babel==2.7.0\n",
      "found distribution backcall==0.1.0\n",
      "found distribution backports.functools-lru-cache==1.5\n",
      "found distribution backports.os==0.1.1\n",
      "found distribution backports.shutil-get-terminal-size==1.0.0\n",
      "found distribution backports.tempfile==1.0\n",
      "found distribution backports.weakref==1.0.post1\n",
      "found distribution beautifulsoup4==4.8.0\n",
      "found distribution bitarray==1.0.1\n",
      "found distribution bkcharts==0.2\n",
      "found distribution bleach==3.1.0\n",
      "found distribution blis==0.4.1\n",
      "found distribution bokeh==2.0.2\n",
      "found distribution boto==2.49.0\n",
      "found distribution boto3==1.14.12\n",
      "found distribution botocore==1.17.12\n",
      "found distribution Bottleneck==1.2.1\n",
      "found distribution branca==0.4.1\n",
      "found distribution Brotli==1.0.7\n",
      "found distribution cachetools==4.1.0\n",
      "found distribution catalogue==1.0.0\n",
      "found distribution certifi==2019.9.11\n",
      "found distribution cffi==1.12.3\n",
      "found distribution chardet==3.0.4\n",
      "found distribution Click==7.0\n",
      "found distribution cloudpickle==1.2.2\n",
      "found distribution clyent==1.2.2\n",
      "found distribution colorama==0.4.1\n",
      "found distribution colorcet==2.0.2\n",
      "found distribution comtypes==1.1.7\n",
      "found distribution conda==4.7.12\n",
      "found distribution conda-build==3.18.9\n",
      "found distribution conda-package-handling==1.6.0\n",
      "found distribution conda-verify==3.4.2\n",
      "found distribution contextlib2==0.6.0\n",
      "found distribution cryptography==2.7\n",
      "found distribution cycler==0.10.0\n",
      "found distribution cymem==2.0.3\n",
      "found distribution Cython==0.29.13\n",
      "found distribution cytoolz==0.10.0\n",
      "found distribution dash==1.12.0\n",
      "found distribution dash-core-components==1.10.0\n",
      "found distribution dash-html-components==1.0.3\n",
      "found distribution dash-renderer==1.4.1\n",
      "found distribution dash-table==4.7.0\n",
      "found distribution dask==2.5.2\n",
      "found distribution datashader==0.10.0\n",
      "found distribution datashape==0.5.2\n",
      "found distribution decorator==4.4.0\n",
      "found distribution defusedxml==0.6.0\n",
      "found distribution distributed==2.5.2\n",
      "found distribution docutils==0.15.2\n",
      "found distribution entrypoints==0.3\n",
      "found distribution en-core-web-sm==2.2.5\n",
      "found distribution et-xmlfile==1.0.1\n",
      "found distribution fastcache==1.1.0\n",
      "found distribution filelock==3.0.12\n",
      "found distribution Flask==1.1.1\n",
      "found distribution Flask-Compress==1.5.0\n",
      "found distribution fsspec==0.5.2\n",
      "found distribution future==0.17.1\n",
      "found distribution gast==0.3.3\n",
      "found distribution gevent==1.4.0\n",
      "found distribution glob2==0.7\n",
      "found distribution google-auth==1.14.0\n",
      "found distribution google-auth-oauthlib==0.4.1\n",
      "found distribution google-pasta==0.2.0\n",
      "found distribution greenlet==0.4.15\n",
      "found distribution grpcio==1.28.1\n",
      "found distribution h5py==2.10.0\n",
      "found distribution HeapDict==1.0.1\n",
      "found distribution holoviews==1.13.2\n",
      "found distribution html5lib==1.0.1\n",
      "found distribution idna==2.8\n",
      "found distribution imageio==2.6.0\n",
      "found distribution imagesize==1.1.0\n",
      "found distribution importlib-metadata==0.23\n",
      "found distribution ipykernel==5.1.2\n",
      "found distribution ipyleaflet==0.13.1\n",
      "found distribution ipython==7.8.0\n",
      "found distribution ipython_genutils==0.2.0\n",
      "found distribution ipywidgets==7.5.1\n",
      "found distribution isort==4.3.21\n",
      "found distribution itsdangerous==1.1.0\n",
      "found distribution jdcal==1.4.1\n",
      "found distribution jedi==0.15.1\n",
      "found distribution Jinja2==2.10.3\n",
      "found distribution jmespath==0.10.0\n",
      "found distribution joblib==0.13.2\n",
      "found distribution json5==0.8.5\n",
      "found distribution jsonschema==3.0.2\n",
      "found distribution jupyter==1.0.0\n",
      "found distribution jupyterlab==1.1.4\n",
      "found distribution jupyterlab-server==1.0.6\n",
      "found distribution jupyter-client==5.3.3\n",
      "found distribution jupyter-console==6.0.0\n",
      "found distribution jupyter-core==4.5.0\n",
      "found distribution kaggle==1.5.6\n",
      "found distribution Keras-Applications==1.0.8\n",
      "found distribution Keras-Preprocessing==1.1.0\n",
      "found distribution keyring==18.0.0\n",
      "found distribution kiwisolver==1.1.0\n",
      "found distribution lazy-object-proxy==1.4.2\n",
      "found distribution libarchive-c==2.8\n",
      "found distribution llvmlite==0.29.0\n",
      "found distribution locket==0.2.0\n",
      "found distribution lxml==4.4.1\n",
      "found distribution Markdown==3.2.1\n",
      "found distribution MarkupSafe==1.1.1\n",
      "found distribution matplotlib==3.1.1\n",
      "found distribution mccabe==0.6.1\n",
      "found distribution menuinst==1.4.16\n",
      "found distribution mistune==0.8.4\n",
      "found distribution mkl-fft==1.0.14\n",
      "found distribution mkl-random==1.1.0\n",
      "found distribution mkl-service==2.3.0\n",
      "found distribution mock==3.0.5\n",
      "found distribution more-itertools==7.2.0\n",
      "found distribution mpmath==1.1.0\n",
      "found distribution msgpack==0.6.1\n",
      "found distribution multipledispatch==0.6.0\n",
      "found distribution murmurhash==1.0.2\n",
      "found distribution navigator-updater==0.2.1\n",
      "found distribution nbconvert==5.6.0\n",
      "found distribution nbformat==4.4.0\n",
      "found distribution networkx==2.3\n",
      "found distribution nltk==3.4.5\n",
      "found distribution nose==1.3.7\n",
      "found distribution notebook==6.0.1\n",
      "found distribution numba==0.45.1\n",
      "found distribution numexpr==2.7.0\n",
      "found distribution numpy==1.18.2\n",
      "found distribution numpydoc==0.9.1\n",
      "found distribution oauthlib==3.1.0\n",
      "found distribution olefile==0.46\n",
      "found distribution openpyxl==3.0.0\n",
      "found distribution opt-einsum==3.2.1\n",
      "found distribution packaging==19.2\n",
      "found distribution pandas==1.0.3\n",
      "found distribution pandocfilters==1.4.2\n",
      "found distribution panel==0.9.5\n",
      "found distribution param==1.9.3\n",
      "found distribution parso==0.5.1\n",
      "found distribution partd==1.0.0\n",
      "found distribution path.py==12.0.1\n",
      "found distribution pathlib2==2.3.5\n",
      "found distribution patsy==0.5.1\n",
      "found distribution pep8==1.7.1\n",
      "found distribution pickleshare==0.7.5\n",
      "found distribution Pillow==6.2.0\n",
      "found distribution pip==19.2.3\n",
      "found distribution pkginfo==1.5.0.1\n",
      "found distribution plac==1.1.3\n",
      "found distribution plotly==4.8.1\n",
      "found distribution pluggy==0.13.0\n",
      "found distribution ply==3.11\n",
      "found distribution preshed==3.0.2\n",
      "found distribution prometheus-client==0.7.1\n",
      "found distribution prompt-toolkit==2.0.10\n",
      "found distribution protobuf==3.11.3\n",
      "found distribution psutil==5.6.3\n",
      "found distribution py==1.8.0\n",
      "found distribution pyasn1==0.4.8\n",
      "found distribution pyasn1-modules==0.2.8\n",
      "found distribution pycodestyle==2.5.0\n",
      "found distribution pycosat==0.6.3\n",
      "found distribution pycparser==2.19\n",
      "found distribution pycrypto==2.6.1\n",
      "found distribution pyct==0.4.6\n",
      "found distribution pycurl==7.43.0.3\n",
      "found distribution pyflakes==2.1.1\n",
      "found distribution Pygments==2.4.2\n",
      "found distribution pylint==2.4.2\n",
      "found distribution pyodbc==4.0.27\n",
      "found distribution pyOpenSSL==19.0.0\n",
      "found distribution pyparsing==2.4.2\n",
      "found distribution pyreadline==2.1\n",
      "found distribution pyrsistent==0.15.4\n",
      "found distribution PySocks==1.7.1\n",
      "found distribution pytest==5.2.1\n",
      "found distribution pytest-arraydiff==0.3\n",
      "found distribution pytest-astropy==0.5.0\n",
      "found distribution pytest-doctestplus==0.4.0\n",
      "found distribution pytest-openfiles==0.4.0\n",
      "found distribution pytest-remotedata==0.3.2\n",
      "found distribution python-dateutil==2.8.0\n",
      "found distribution python-slugify==4.0.0\n",
      "found distribution pytz==2019.3\n",
      "found distribution pyviz-comms==0.7.4\n",
      "found distribution PyWavelets==1.0.3\n",
      "found distribution pywin32==223\n",
      "found distribution pywinpty==0.5.5\n",
      "found distribution PyYAML==5.1.2\n",
      "found distribution pyzmq==18.1.0\n",
      "found distribution QtAwesome==0.6.0\n",
      "found distribution qtconsole==4.5.5\n",
      "found distribution QtPy==1.9.0\n",
      "found distribution requests==2.22.0\n",
      "found distribution requests-oauthlib==1.3.0\n",
      "found distribution retrying==1.3.3\n",
      "found distribution rope==0.14.0\n",
      "found distribution rsa==3.4.2\n",
      "found distribution ruamel_yaml==0.15.46\n",
      "found distribution s3transfer==0.3.3\n",
      "found distribution scikit-image==0.15.0\n",
      "found distribution scikit-learn==0.22.2.post1\n",
      "found distribution scipy==1.4.1\n",
      "found distribution seaborn==0.9.0\n",
      "found distribution selenium==3.141.0\n",
      "found distribution Send2Trash==1.5.0\n",
      "found distribution setuptools==41.4.0\n",
      "found distribution simplegeneric==0.8.1\n",
      "found distribution singledispatch==3.4.0.3\n",
      "found distribution six==1.12.0\n",
      "found distribution snowballstemmer==2.0.0\n",
      "found distribution sortedcollections==1.1.2\n",
      "found distribution sortedcontainers==2.1.0\n",
      "found distribution soupsieve==1.9.3\n"
     ]
    },
    {
     "name": "stdout",
     "output_type": "stream",
     "text": [
      "found distribution spacy==2.2.4\n",
      "found distribution Sphinx==2.2.0\n",
      "found distribution sphinxcontrib-applehelp==1.0.1\n",
      "found distribution sphinxcontrib-devhelp==1.0.1\n",
      "found distribution sphinxcontrib-htmlhelp==1.0.2\n",
      "found distribution sphinxcontrib-jsmath==1.0.1\n",
      "found distribution sphinxcontrib-qthelp==1.0.2\n",
      "found distribution sphinxcontrib-serializinghtml==1.1.3\n",
      "found distribution sphinxcontrib-websupport==1.1.2\n",
      "found distribution spyder==3.3.6\n",
      "found distribution spyder-kernels==0.5.2\n",
      "found distribution SQLAlchemy==1.3.9\n",
      "found distribution srsly==1.0.2\n",
      "found distribution statsmodels==0.10.1\n",
      "found distribution sympy==1.4\n",
      "found distribution tables==3.5.2\n",
      "found distribution tblib==1.4.0\n",
      "found distribution tensorboard==2.2.1\n",
      "found distribution tensorboard-plugin-wit==1.6.0.post3\n",
      "found distribution tensorflow==2.2.0\n",
      "found distribution tensorflow-estimator==2.2.0\n",
      "found distribution termcolor==1.1.0\n",
      "found distribution terminado==0.8.2\n",
      "found distribution testpath==0.4.2\n",
      "found distribution text-unidecode==1.3\n",
      "found distribution thinc==7.4.0\n",
      "found distribution toolz==0.10.0\n",
      "found distribution tornado==6.0.3\n",
      "found distribution tqdm==4.46.0\n",
      "found distribution traitlets==4.3.3\n",
      "found distribution traittypes==0.2.1\n",
      "found distribution typing-extensions==3.7.4.2\n",
      "found distribution unicodecsv==0.14.1\n",
      "found distribution urllib3==1.24.2\n",
      "found distribution vega==3.4.0\n",
      "found distribution vega-datasets==0.8.0\n",
      "found distribution wasabi==0.6.0\n",
      "found distribution wcwidth==0.1.7\n",
      "found distribution webencodings==0.5.1\n",
      "found distribution Werkzeug==0.16.0\n",
      "found distribution wheel==0.33.6\n",
      "found distribution widgetsnbextension==3.5.1\n",
      "found distribution wincertstore==0.2\n",
      "found distribution win-inet-pton==1.1.0\n",
      "found distribution win-unicode-console==0.5\n",
      "found distribution wordcloud==1.7.0\n",
      "found distribution wrapt==1.11.2\n",
      "found distribution xarray==0.15.1\n",
      "found distribution xlrd==1.2.0\n",
      "found distribution XlsxWriter==1.2.1\n",
      "found distribution xlwings==0.15.10\n",
      "found distribution xlwt==1.3.0\n",
      "found distribution zict==1.0.0\n",
      "found distribution zipp==0.6.0\n",
      "found distribution numpy==1.16.5\n"
     ]
    }
   ],
   "source": [
    "import sys # import library to check installed libraries locally\n",
    "\n",
    "# List installed libraries \n",
    "if sys.version_info >= (3, 8):\n",
    "    from importlib import metadata as importlib_metadata\n",
    "else:\n",
    "    import importlib_metadata\n",
    "\n",
    "dists = importlib_metadata.distributions()\n",
    "for dist in dists:\n",
    "    name = dist.metadata[\"Name\"]\n",
    "    version = dist.version\n",
    "    license = dist.metadata[\"License\"]\n",
    "    print(f'found distribution {name}=={version}')    "
   ]
  },
  {
   "cell_type": "code",
   "execution_count": 3,
   "metadata": {},
   "outputs": [],
   "source": [
    "import warnings\n",
    "warnings.simplefilter('ignore')\n",
    "\n",
    "import numpy as np\n",
    "import pandas as pd\n",
    "import seaborn as sns\n",
    "import matplotlib.pyplot as plt\n",
    "%matplotlib inline\n",
    "from time import time\n",
    "import pandas as pd"
   ]
  },
  {
   "cell_type": "markdown",
   "metadata": {},
   "source": [
    "<a id=ImportData></a>\n",
    "## Import data"
   ]
  },
  {
   "cell_type": "markdown",
   "metadata": {},
   "source": [
    "The goal of this section is to import the data required from various sources"
   ]
  },
  {
   "cell_type": "markdown",
   "metadata": {},
   "source": [
    "<a id=EDA></a>\n",
    "## EDA\n",
    "[Return to start](#TOC)"
   ]
  },
  {
   "cell_type": "markdown",
   "metadata": {},
   "source": [
    "The goal of this section is to get familiar with the data that will be used for the end to end pipeline. It is very important to explore the data and summarize its main characteristics before diving in the machine learning models. It is also interesting to see how the different features are correlated with the target feature"
   ]
  },
  {
   "cell_type": "markdown",
   "metadata": {},
   "source": [
    "<a id=FeatureEng></a>\n",
    "## Feature Engineering \n",
    "[Return to start](#TOC)"
   ]
  },
  {
   "cell_type": "markdown",
   "metadata": {},
   "source": [
    "When conducting an end to end Machine Learning project, after exploring and preprocessing the data it is essential to think of feature engineering. It consists of creating new feature(s) based on the features that already exist in the dataset that can be useful for training the model."
   ]
  },
  {
   "cell_type": "markdown",
   "metadata": {},
   "source": [
    "<a id=Modeling></a>\n",
    "## Modeling\n",
    "[Return to start](#TOC)"
   ]
  },
  {
   "cell_type": "markdown",
   "metadata": {},
   "source": [
    "Now that we have explored the data, cleaned it, preprocessed it and added a new feature to it, we can start the modeling part of the project by applying Machine Learning algorithms."
   ]
  },
  {
   "cell_type": "markdown",
   "metadata": {},
   "source": [
    "<a id=Evaluate></a>\n",
    "## Evaluation, reporting, analysis\n",
    "[Return to start](#TOC)"
   ]
  },
  {
   "cell_type": "markdown",
   "metadata": {},
   "source": [
    "After conducting an end to end Machine Learning project, it is time to evaluate our model, report our analysis and observations"
   ]
  },
  {
   "cell_type": "code",
   "execution_count": null,
   "metadata": {},
   "outputs": [],
   "source": []
  }
 ],
 "metadata": {
  "kernelspec": {
   "display_name": "Python 3",
   "language": "python",
   "name": "python3"
  },
  "language_info": {
   "codemirror_mode": {
    "name": "ipython",
    "version": 3
   },
   "file_extension": ".py",
   "mimetype": "text/x-python",
   "name": "python",
   "nbconvert_exporter": "python",
   "pygments_lexer": "ipython3",
   "version": "3.7.4"
  }
 },
 "nbformat": 4,
 "nbformat_minor": 2
}
